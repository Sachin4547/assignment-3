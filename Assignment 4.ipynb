{
 "cells": [
  {
   "cell_type": "code",
   "execution_count": 9,
   "id": "7cec5d80-c4a4-4ed2-8038-2b6eb08d8d9c",
   "metadata": {},
   "outputs": [],
   "source": [
    "l = [('Sachin Tendulkar',34357),('Ricky Pointing',27483),('Jack Kallis',25534),('Virat Kohli',24936)]"
   ]
  },
  {
   "cell_type": "code",
   "execution_count": 10,
   "id": "7f1e3e98-951b-4042-bbc6-fc8a03c629fe",
   "metadata": {},
   "outputs": [],
   "source": [
    "sorted_l = sorted(l, key = lambda x:x[1])"
   ]
  },
  {
   "cell_type": "code",
   "execution_count": 11,
   "id": "c6ea9709-f289-44e5-ab8f-47e35c1572e1",
   "metadata": {},
   "outputs": [
    {
     "name": "stdout",
     "output_type": "stream",
     "text": [
      "[('Virat Kohli', 24936), ('Jack Kallis', 25534), ('Ricky Pointing', 27483), ('Sachin Tendulkar', 34357)]\n"
     ]
    }
   ],
   "source": [
    "print(sorted_l)"
   ]
  },
  {
   "cell_type": "code",
   "execution_count": 12,
   "id": "1e6fab99-3b5d-4543-8f2a-4f339ff5ae6f",
   "metadata": {},
   "outputs": [],
   "source": [
    "l1 = [1,2,3,4,5,6,7,8,9,10]\n"
   ]
  },
  {
   "cell_type": "code",
   "execution_count": 13,
   "id": "6ad65099-c656-430f-9030-2a4d21296e1b",
   "metadata": {},
   "outputs": [
    {
     "data": {
      "text/plain": [
       "[1, 4, 9, 16, 25, 36, 49, 64, 81, 100]"
      ]
     },
     "execution_count": 13,
     "metadata": {},
     "output_type": "execute_result"
    }
   ],
   "source": [
    "list(map(lambda x : x**2,l1))"
   ]
  },
  {
   "cell_type": "code",
   "execution_count": 14,
   "id": "188729cf-949a-4d2c-8197-ba439994a9ce",
   "metadata": {},
   "outputs": [],
   "source": [
    "l2 = [1,2,3,4,5,6,7,8,9,10]"
   ]
  },
  {
   "cell_type": "code",
   "execution_count": 15,
   "id": "4db44de9-4cec-4e9a-8d99-810d0cd81b5f",
   "metadata": {},
   "outputs": [],
   "source": [
    "m2 = tuple(map(lambda x : str(x) ,l2))"
   ]
  },
  {
   "cell_type": "code",
   "execution_count": 16,
   "id": "f736072b-d60f-417b-9832-2725e34eb697",
   "metadata": {},
   "outputs": [
    {
     "data": {
      "text/plain": [
       "('1', '2', '3', '4', '5', '6', '7', '8', '9', '10')"
      ]
     },
     "execution_count": 16,
     "metadata": {},
     "output_type": "execute_result"
    }
   ],
   "source": [
    "m2"
   ]
  },
  {
   "cell_type": "code",
   "execution_count": 21,
   "id": "b891dee4-2c24-4a0b-ab4b-7e231a67d048",
   "metadata": {},
   "outputs": [],
   "source": [
    "L = [2,3,6,9,27,60,90,120,55,46]"
   ]
  },
  {
   "cell_type": "code",
   "execution_count": 26,
   "id": "7b067929-f8ca-45a1-a766-b2f2f680bd26",
   "metadata": {},
   "outputs": [
    {
     "data": {
      "text/plain": [
       "[2, 3, 6, 9, 27, 60, 90, 120, 46]"
      ]
     },
     "execution_count": 26,
     "metadata": {},
     "output_type": "execute_result"
    }
   ],
   "source": [
    "list(filter(lambda x : x%2 == 0 or x%3 == 0,L))"
   ]
  },
  {
   "cell_type": "markdown",
   "id": "ba36e8d1-7e6d-4b34-8f74-1a0e3d2c7ebc",
   "metadata": {},
   "source": [
    "Question 4"
   ]
  },
  {
   "cell_type": "code",
   "execution_count": 4,
   "id": "10cb7dfc-8b55-4d29-b830-0ae9d2c0a8ec",
   "metadata": {},
   "outputs": [],
   "source": [
    "l = [1,2,3,4,5,6,7,8,9,10,11,12,13,14,1,5,16,17,18,19,20,21,22,23,24,25]"
   ]
  },
  {
   "cell_type": "code",
   "execution_count": 5,
   "id": "3c7c56f5-e138-4012-af95-76f5484afc07",
   "metadata": {},
   "outputs": [],
   "source": [
    "from functools import reduce"
   ]
  },
  {
   "cell_type": "code",
   "execution_count": 6,
   "id": "67457ec7-f7a6-434d-9620-c44d735ef182",
   "metadata": {},
   "outputs": [],
   "source": [
    "a = reduce(lambda x,y : x*y, l)"
   ]
  },
  {
   "cell_type": "code",
   "execution_count": 7,
   "id": "75e2a3d3-b8f5-4752-89bf-5eeb056f205a",
   "metadata": {},
   "outputs": [
    {
     "data": {
      "text/plain": [
       "5170403347776995328000000"
      ]
     },
     "execution_count": 7,
     "metadata": {},
     "output_type": "execute_result"
    }
   ],
   "source": [
    "a"
   ]
  },
  {
   "cell_type": "markdown",
   "id": "540dd79e-c255-4676-b544-3520c5747906",
   "metadata": {},
   "source": [
    "Question 6"
   ]
  },
  {
   "cell_type": "code",
   "execution_count": 8,
   "id": "68f9f652-8f83-4c9b-b909-ade847b97b17",
   "metadata": {},
   "outputs": [],
   "source": [
    "l = [\"python\",\"php\",\"aba\",\"radar\",\"level\"]"
   ]
  },
  {
   "cell_type": "code",
   "execution_count": 9,
   "id": "525a6ebd-2e25-4a47-bb42-894b49a4ac82",
   "metadata": {},
   "outputs": [],
   "source": [
    "a = list(filter(lambda x : x==x[::-1],l))"
   ]
  },
  {
   "cell_type": "code",
   "execution_count": 10,
   "id": "a58cd388-52b7-4c4d-977b-425864190fd0",
   "metadata": {},
   "outputs": [
    {
     "data": {
      "text/plain": [
       "['php', 'aba', 'radar', 'level']"
      ]
     },
     "execution_count": 10,
     "metadata": {},
     "output_type": "execute_result"
    }
   ],
   "source": [
    "a"
   ]
  },
  {
   "cell_type": "code",
   "execution_count": null,
   "id": "86d9aa62-681a-493a-8e40-60fec1c44243",
   "metadata": {},
   "outputs": [],
   "source": []
  }
 ],
 "metadata": {
  "kernelspec": {
   "display_name": "Python 3 (ipykernel)",
   "language": "python",
   "name": "python3"
  },
  "language_info": {
   "codemirror_mode": {
    "name": "ipython",
    "version": 3
   },
   "file_extension": ".py",
   "mimetype": "text/x-python",
   "name": "python",
   "nbconvert_exporter": "python",
   "pygments_lexer": "ipython3",
   "version": "3.10.8"
  }
 },
 "nbformat": 4,
 "nbformat_minor": 5
}
