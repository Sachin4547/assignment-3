{
 "cells": [
  {
   "cell_type": "code",
   "execution_count": 10,
   "id": "10e6a958-83ef-43a9-bb5d-489f9d9824e7",
   "metadata": {},
   "outputs": [],
   "source": [
    "l = [1,2,3,4,5,6,7,8,9,10,11,12,13,14,15,16,17,18,19,20,21,22,23,24,25]"
   ]
  },
  {
   "cell_type": "code",
   "execution_count": 11,
   "id": "1357594d-3c05-4080-9c94-62d56629d6bf",
   "metadata": {},
   "outputs": [],
   "source": [
    "def func(l):\n",
    "    l1 = []\n",
    "   \n",
    "    for i in l:\n",
    "        if i%2!=0:\n",
    "            l1.append(i)\n",
    "    return l1\n",
    "   \n",
    "    \n",
    "       "
   ]
  },
  {
   "cell_type": "code",
   "execution_count": 12,
   "id": "371524ea-95ca-4faf-9114-87da91a5c1b6",
   "metadata": {},
   "outputs": [
    {
     "data": {
      "text/plain": [
       "[1, 3, 5, 7, 9, 11, 13, 15, 17, 19, 21, 23, 25]"
      ]
     },
     "execution_count": 12,
     "metadata": {},
     "output_type": "execute_result"
    }
   ],
   "source": [
    "func(l)"
   ]
  },
  {
   "cell_type": "code",
   "execution_count": 13,
   "id": "be14ca12-2e37-4df4-96c2-0375163a2a77",
   "metadata": {},
   "outputs": [],
   "source": [
    "def test1(*args):\n",
    "    return args\n",
    "    "
   ]
  },
  {
   "cell_type": "code",
   "execution_count": 14,
   "id": "700079be-d48d-4e99-9730-7672cdc1fab1",
   "metadata": {},
   "outputs": [
    {
     "data": {
      "text/plain": [
       "(1, 2, 3, 4, 'sachin')"
      ]
     },
     "execution_count": 14,
     "metadata": {},
     "output_type": "execute_result"
    }
   ],
   "source": [
    "test1(1,2,3,4,'sachin')"
   ]
  },
  {
   "cell_type": "code",
   "execution_count": 15,
   "id": "79a8258b-3648-45e1-b57f-293b32820943",
   "metadata": {},
   "outputs": [],
   "source": [
    "def test2(**kwargs):\n",
    "    return kwargs\n"
   ]
  },
  {
   "cell_type": "code",
   "execution_count": 16,
   "id": "eb877612-9d79-4cac-9057-7f04ec6e8beb",
   "metadata": {},
   "outputs": [
    {
     "data": {
      "text/plain": [
       "{'apple': 1, 'mango': 2, 'b': 'Sachin'}"
      ]
     },
     "execution_count": 16,
     "metadata": {},
     "output_type": "execute_result"
    }
   ],
   "source": [
    "test2(apple=1,mango=2,b='Sachin')"
   ]
  },
  {
   "cell_type": "code",
   "execution_count": 17,
   "id": "22d9828e-9925-4c86-9e74-d89585500644",
   "metadata": {},
   "outputs": [
    {
     "data": {
      "text/plain": [
       "'An interator is a object that allow you to loop through a collection of elements one at a time,whithout having to know the underlying structure of the collection.It provides a way to acess elements sequentially,making it easy to process large datasets or perform operatin on elements in a memory efficient manner.'"
      ]
     },
     "execution_count": 17,
     "metadata": {},
     "output_type": "execute_result"
    }
   ],
   "source": [
    "\"\"\"An interator is a object that allow you to loop through a collection of elements one at a time,whithout having to know the underlying structure of the collection.It provides a way to acess elements sequentially,making it easy to process large datasets or perform operatin on elements in a memory efficient manner.\"\"\""
   ]
  },
  {
   "cell_type": "code",
   "execution_count": 18,
   "id": "6c067bc6-57b3-4ea3-9371-52df1af0154e",
   "metadata": {},
   "outputs": [],
   "source": [
    "l1 = [2,4,6,8,10,12,14,16,18,20]"
   ]
  },
  {
   "cell_type": "code",
   "execution_count": 19,
   "id": "8f15c006-7214-4f3e-be67-0bd36bb89b6f",
   "metadata": {},
   "outputs": [],
   "source": [
    "L = iter(l1)"
   ]
  },
  {
   "cell_type": "code",
   "execution_count": 20,
   "id": "3028e592-0ca3-432b-bc67-1a3e95dadbbf",
   "metadata": {},
   "outputs": [
    {
     "data": {
      "text/plain": [
       "2"
      ]
     },
     "execution_count": 20,
     "metadata": {},
     "output_type": "execute_result"
    }
   ],
   "source": [
    "next(L)"
   ]
  },
  {
   "cell_type": "code",
   "execution_count": 21,
   "id": "010bca29-5646-4626-8e00-34172552229a",
   "metadata": {},
   "outputs": [
    {
     "data": {
      "text/plain": [
       "4"
      ]
     },
     "execution_count": 21,
     "metadata": {},
     "output_type": "execute_result"
    }
   ],
   "source": [
    "next(L)"
   ]
  },
  {
   "cell_type": "code",
   "execution_count": 22,
   "id": "87c2461b-c27c-4d4b-a80d-0ba3b96a80d8",
   "metadata": {},
   "outputs": [
    {
     "data": {
      "text/plain": [
       "6"
      ]
     },
     "execution_count": 22,
     "metadata": {},
     "output_type": "execute_result"
    }
   ],
   "source": [
    "next(L)"
   ]
  },
  {
   "cell_type": "code",
   "execution_count": 23,
   "id": "4c335faa-9089-4a3d-9d76-989c44bbbc24",
   "metadata": {},
   "outputs": [
    {
     "data": {
      "text/plain": [
       "8"
      ]
     },
     "execution_count": 23,
     "metadata": {},
     "output_type": "execute_result"
    }
   ],
   "source": [
    "next(L)"
   ]
  },
  {
   "cell_type": "code",
   "execution_count": 24,
   "id": "4e8c561a-e4dd-47d6-a48d-3b8f003ce72e",
   "metadata": {},
   "outputs": [
    {
     "data": {
      "text/plain": [
       "10"
      ]
     },
     "execution_count": 24,
     "metadata": {},
     "output_type": "execute_result"
    }
   ],
   "source": [
    "next(L)"
   ]
  },
  {
   "cell_type": "code",
   "execution_count": 25,
   "id": "d7c29e1c-1e9c-4da8-a16a-5ec7d252162d",
   "metadata": {},
   "outputs": [
    {
     "data": {
      "text/plain": [
       "'In Python, a generator function is a special type of function that returns an iterator, allowing you to iterate over a sequence of values without having to store them all in memory at once. Instead of using the return keyword to return a value, generator functions use the yield keyword to yield values one at a time as they are requested. This makes generators memory-efficient and particularly useful for working with large datasets or infinite sequences.'"
      ]
     },
     "execution_count": 25,
     "metadata": {},
     "output_type": "execute_result"
    }
   ],
   "source": [
    "\"\"\"In Python, a generator function is a special type of function that returns an iterator, allowing you to iterate over a sequence of values without having to store them all in memory at once. Instead of using the return keyword to return a value, generator functions use the yield keyword to yield values one at a time as they are requested. This makes generators memory-efficient and particularly useful for working with large datasets or infinite sequences.\"\"\""
   ]
  },
  {
   "cell_type": "code",
   "execution_count": 26,
   "id": "852f0aac-9a2d-42d8-beae-a97db480492c",
   "metadata": {},
   "outputs": [],
   "source": [
    "def count_test(n):\n",
    "    count = 1\n",
    "    while count <= n :\n",
    "        yield count\n",
    "        count = count +1\n",
    "        \n",
    "        \n",
    "    \n",
    "    \n",
    "    "
   ]
  },
  {
   "cell_type": "code",
   "execution_count": 27,
   "id": "41ecafaa-e93c-442d-b2d8-3b0387d346f0",
   "metadata": {},
   "outputs": [],
   "source": [
    "c = count_test(5)"
   ]
  },
  {
   "cell_type": "code",
   "execution_count": 28,
   "id": "bd28c002-36f1-4d12-a7b7-5a53e93c408e",
   "metadata": {},
   "outputs": [
    {
     "data": {
      "text/plain": [
       "generator"
      ]
     },
     "execution_count": 28,
     "metadata": {},
     "output_type": "execute_result"
    }
   ],
   "source": [
    "type(c)"
   ]
  },
  {
   "cell_type": "code",
   "execution_count": 29,
   "id": "25c53fd2-6e25-43b1-a81b-01949f896aa8",
   "metadata": {},
   "outputs": [
    {
     "name": "stdout",
     "output_type": "stream",
     "text": [
      "1\n",
      "2\n",
      "3\n",
      "4\n",
      "5\n"
     ]
    }
   ],
   "source": [
    "for i in c:\n",
    "    print(i)"
   ]
  },
  {
   "cell_type": "code",
   "execution_count": 30,
   "id": "de0be9b0-f1d7-4660-bfe5-55c655eff4c3",
   "metadata": {},
   "outputs": [],
   "source": [
    "def test_fib():\n",
    "    a,b = 0,1\n",
    "    while True:\n",
    "        yield a\n",
    "        a,b = b,a+b\n",
    "        \n",
    "        \n",
    "    "
   ]
  },
  {
   "cell_type": "code",
   "execution_count": 31,
   "id": "37ca56ff-e81b-4095-9dae-4544a720421f",
   "metadata": {},
   "outputs": [],
   "source": [
    "fib = test_fib()"
   ]
  },
  {
   "cell_type": "code",
   "execution_count": 32,
   "id": "30e2d379-d7b6-43a9-9572-b8b0a2ca8819",
   "metadata": {},
   "outputs": [
    {
     "data": {
      "text/plain": [
       "generator"
      ]
     },
     "execution_count": 32,
     "metadata": {},
     "output_type": "execute_result"
    }
   ],
   "source": [
    "type(fib)"
   ]
  },
  {
   "cell_type": "code",
   "execution_count": 33,
   "id": "e5d81fc8-ef37-4e84-8469-14706e1a3279",
   "metadata": {},
   "outputs": [
    {
     "name": "stdout",
     "output_type": "stream",
     "text": [
      "0\n",
      "1\n",
      "1\n",
      "2\n",
      "3\n",
      "5\n",
      "8\n",
      "13\n",
      "21\n",
      "34\n"
     ]
    }
   ],
   "source": [
    "for i in range(10):\n",
    "    print(next(fib))\n",
    "    \n"
   ]
  },
  {
   "cell_type": "code",
   "execution_count": 34,
   "id": "963afa67-8d54-45ac-b659-a4f2dd00b62a",
   "metadata": {},
   "outputs": [],
   "source": [
    "s = 'pwskills'"
   ]
  },
  {
   "cell_type": "code",
   "execution_count": 35,
   "id": "2360a375-4840-403a-829c-89024c97b687",
   "metadata": {},
   "outputs": [],
   "source": [
    "m = lambda s: list(s)"
   ]
  },
  {
   "cell_type": "code",
   "execution_count": 36,
   "id": "91cf3e2f-b217-4e1d-b0cb-fc6ca8a0869b",
   "metadata": {},
   "outputs": [
    {
     "data": {
      "text/plain": [
       "['p', 'w', 's', 'k', 'i', 'l', 'l', 's']"
      ]
     },
     "execution_count": 36,
     "metadata": {},
     "output_type": "execute_result"
    }
   ],
   "source": [
    "m(s)"
   ]
  },
  {
   "cell_type": "code",
   "execution_count": 37,
   "id": "be1cea98-2897-4020-a13c-3ed60439593a",
   "metadata": {},
   "outputs": [],
   "source": [
    "def fun():\n",
    "    l = []\n",
    "    for i in range(100):\n",
    "        l.append(i+1)\n",
    "        yield i\n",
    "        return l\n",
    "        \n",
    "        \n",
    "    \n",
    "    "
   ]
  },
  {
   "cell_type": "code",
   "execution_count": 38,
   "id": "6618e4ba-4565-4ef1-9788-b75c617c3997",
   "metadata": {},
   "outputs": [
    {
     "data": {
      "text/plain": [
       "<generator object fun at 0x7fdb61669bd0>"
      ]
     },
     "execution_count": 38,
     "metadata": {},
     "output_type": "execute_result"
    }
   ],
   "source": [
    "fun()"
   ]
  },
  {
   "cell_type": "code",
   "execution_count": 39,
   "id": "357ebe86-8b42-410c-81dc-e0628a805ae7",
   "metadata": {},
   "outputs": [],
   "source": [
    "def palindrome(s):\n",
    "    if(s==s[::-1]):\n",
    "        return\"The string is palindrome\"\n",
    "    else:\n",
    "        return\"The string is not palindrome\"\n",
    "        "
   ]
  },
  {
   "cell_type": "code",
   "execution_count": 40,
   "id": "19f31354-33fd-4582-81a3-6efddcd0974d",
   "metadata": {},
   "outputs": [
    {
     "data": {
      "text/plain": [
       "'The string is palindrome'"
      ]
     },
     "execution_count": 40,
     "metadata": {},
     "output_type": "execute_result"
    }
   ],
   "source": [
    "palindrome(\"malayalam\")"
   ]
  },
  {
   "cell_type": "code",
   "execution_count": 43,
   "id": "bf8dd300-633b-4f6f-b197-ae1372440509",
   "metadata": {},
   "outputs": [],
   "source": [
    "def test_12():\n",
    "    l=[]\n",
    "    for i in range(2,100):\n",
    "        if i%2!=0:\n",
    "            l.append(i)\n",
    "    return l\n",
    "            \n",
    "        \n",
    "    \n",
    "    "
   ]
  },
  {
   "cell_type": "code",
   "execution_count": 44,
   "id": "94df3be6-b81e-4c66-a142-312053257bef",
   "metadata": {},
   "outputs": [
    {
     "data": {
      "text/plain": [
       "[3,\n",
       " 5,\n",
       " 7,\n",
       " 9,\n",
       " 11,\n",
       " 13,\n",
       " 15,\n",
       " 17,\n",
       " 19,\n",
       " 21,\n",
       " 23,\n",
       " 25,\n",
       " 27,\n",
       " 29,\n",
       " 31,\n",
       " 33,\n",
       " 35,\n",
       " 37,\n",
       " 39,\n",
       " 41,\n",
       " 43,\n",
       " 45,\n",
       " 47,\n",
       " 49,\n",
       " 51,\n",
       " 53,\n",
       " 55,\n",
       " 57,\n",
       " 59,\n",
       " 61,\n",
       " 63,\n",
       " 65,\n",
       " 67,\n",
       " 69,\n",
       " 71,\n",
       " 73,\n",
       " 75,\n",
       " 77,\n",
       " 79,\n",
       " 81,\n",
       " 83,\n",
       " 85,\n",
       " 87,\n",
       " 89,\n",
       " 91,\n",
       " 93,\n",
       " 95,\n",
       " 97,\n",
       " 99]"
      ]
     },
     "execution_count": 44,
     "metadata": {},
     "output_type": "execute_result"
    }
   ],
   "source": [
    "test_12()"
   ]
  },
  {
   "cell_type": "code",
   "execution_count": null,
   "id": "51c768d2-778f-4032-bed0-6a804734122d",
   "metadata": {},
   "outputs": [],
   "source": []
  },
  {
   "cell_type": "code",
   "execution_count": null,
   "id": "95d7c23d-4aaf-47dd-9429-34c37aab5945",
   "metadata": {},
   "outputs": [],
   "source": []
  },
  {
   "cell_type": "code",
   "execution_count": null,
   "id": "bacc0aa9-347d-4f90-b521-226b1c2f8632",
   "metadata": {},
   "outputs": [],
   "source": []
  },
  {
   "cell_type": "code",
   "execution_count": null,
   "id": "65da994e-662b-4dc1-b91d-3f2b8695f2ef",
   "metadata": {},
   "outputs": [],
   "source": []
  },
  {
   "cell_type": "code",
   "execution_count": null,
   "id": "0c31229c-896f-49e9-be78-250ab8492bc9",
   "metadata": {},
   "outputs": [],
   "source": []
  },
  {
   "cell_type": "code",
   "execution_count": null,
   "id": "033afb36-c30c-4feb-a5e9-b5d7d0cb8dae",
   "metadata": {},
   "outputs": [],
   "source": []
  },
  {
   "cell_type": "code",
   "execution_count": null,
   "id": "fddfffdb-9cac-4bfa-99f2-33ef561c8312",
   "metadata": {},
   "outputs": [],
   "source": []
  },
  {
   "cell_type": "code",
   "execution_count": null,
   "id": "cc4d8a78-9a1b-4716-ac93-5bdbbcfec772",
   "metadata": {},
   "outputs": [],
   "source": []
  },
  {
   "cell_type": "code",
   "execution_count": null,
   "id": "a75f0e73-3b63-4ec8-977f-c2ace8572f0a",
   "metadata": {},
   "outputs": [],
   "source": []
  },
  {
   "cell_type": "code",
   "execution_count": null,
   "id": "968013a6-49f1-4f07-b1fa-6465544c9903",
   "metadata": {},
   "outputs": [],
   "source": []
  },
  {
   "cell_type": "code",
   "execution_count": null,
   "id": "53d12854-f9c8-445d-8744-325a203aee6d",
   "metadata": {},
   "outputs": [],
   "source": []
  },
  {
   "cell_type": "code",
   "execution_count": null,
   "id": "cf29f7e6-62d5-47aa-a17b-eb4cabca358a",
   "metadata": {},
   "outputs": [],
   "source": []
  },
  {
   "cell_type": "code",
   "execution_count": null,
   "id": "37905795-b3d2-4ddb-8dd7-3f943c95dec0",
   "metadata": {},
   "outputs": [],
   "source": []
  },
  {
   "cell_type": "code",
   "execution_count": null,
   "id": "b13d92dd-4362-4cb5-9a10-eab2c035daed",
   "metadata": {},
   "outputs": [],
   "source": []
  }
 ],
 "metadata": {
  "kernelspec": {
   "display_name": "Python 3 (ipykernel)",
   "language": "python",
   "name": "python3"
  },
  "language_info": {
   "codemirror_mode": {
    "name": "ipython",
    "version": 3
   },
   "file_extension": ".py",
   "mimetype": "text/x-python",
   "name": "python",
   "nbconvert_exporter": "python",
   "pygments_lexer": "ipython3",
   "version": "3.10.8"
  }
 },
 "nbformat": 4,
 "nbformat_minor": 5
}
